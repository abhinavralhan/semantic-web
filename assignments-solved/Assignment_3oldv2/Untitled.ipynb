{
 "cells": [
  {
   "cell_type": "code",
   "execution_count": 1,
   "id": "f76683cd-eb07-4f8b-b8ef-1209c9ebcfdd",
   "metadata": {},
   "outputs": [
    {
     "name": "stdout",
     "output_type": "stream",
     "text": [
      "Requirement already satisfied: lxml in /Users/abhinavralhan/miniforge3/envs/uniko/lib/python3.8/site-packages (4.8.0)\n"
     ]
    }
   ],
   "source": [
    "!pip install lxml"
   ]
  },
  {
   "cell_type": "code",
   "execution_count": 3,
   "id": "7cae28ee-6180-4d7a-a512-2783b61a6f0a",
   "metadata": {},
   "outputs": [],
   "source": [
    "from io import StringIO\n",
    "from lxml import etree"
   ]
  },
  {
   "cell_type": "code",
   "execution_count": 2,
   "id": "968df90e-df2f-4366-b92a-cdb889fa3cd6",
   "metadata": {},
   "outputs": [],
   "source": [
    "# example\n",
    "# from lxml import etree\n",
    "\n",
    "# dtd = etree.DTD(StringIO(\"\"\"<!ELEMENT foo EMPTY>\"\"\"))\n",
    "# root = etree.XML(\"<foo/>\")\n",
    "# print(dtd.validate(root))\n",
    "# # True\n",
    "\n",
    "# root = etree.XML(\"<foo>bar</foo>\")\n",
    "# print(dtd.validate(root))\n",
    "# # False\n",
    "# print(dtd.error_log.filter_from_errors())"
   ]
  },
  {
   "cell_type": "code",
   "execution_count": 166,
   "id": "eb1cfa86-b88f-453e-af04-72eeae555af4",
   "metadata": {},
   "outputs": [],
   "source": [
    "def validateDTD(XMLfile: str, DTDSchema: str) -> bool:\n",
    "\n",
    "    dtd_schema = etree.DTD(open(DTDSchema, 'rb'))\n",
    "\n",
    "    xml_doc = etree.parse(XMLfile)\n",
    "    result = dtd_schema.validate(xml_doc)\n",
    "\n",
    "    if result:\n",
    "        print(\"File Validated\")\n",
    "    else:\n",
    "        print(\"Your XML file does not conform to its DTD Schema\")"
   ]
  },
  {
   "cell_type": "code",
   "execution_count": 167,
   "id": "a17abba4-5baf-4292-b5d4-dcbf2283630e",
   "metadata": {},
   "outputs": [
    {
     "name": "stdout",
     "output_type": "stream",
     "text": [
      "File Validated\n"
     ]
    }
   ],
   "source": [
    "validateDTD('XML.xml', 'DTD.dtd')"
   ]
  },
  {
   "cell_type": "code",
   "execution_count": null,
   "id": "7a677972-687c-4744-ac3c-98f500d2ec3d",
   "metadata": {},
   "outputs": [],
   "source": []
  },
  {
   "cell_type": "code",
   "execution_count": 168,
   "id": "377155b3-1314-4910-9ad9-681546f57ff6",
   "metadata": {},
   "outputs": [],
   "source": [
    "from lxml import etree, objectify\n",
    "dtd = etree.DTD(open('DTD.dtd', 'rb'))"
   ]
  },
  {
   "cell_type": "code",
   "execution_count": 169,
   "id": "bb9f5080-629a-4a38-9d18-840b677d49b9",
   "metadata": {},
   "outputs": [],
   "source": [
    "import xml.etree.ElementTree as ET\n",
    "xml_path = 'XML.xml'\n",
    "xml_doc = etree.parse(xml_path)"
   ]
  },
  {
   "cell_type": "code",
   "execution_count": 170,
   "id": "8b1a44fb-3ef0-4164-be61-0ccc723f99e8",
   "metadata": {},
   "outputs": [
    {
     "data": {
      "text/plain": [
       "True"
      ]
     },
     "execution_count": 170,
     "metadata": {},
     "output_type": "execute_result"
    }
   ],
   "source": [
    "dtd.validate(xml_doc)"
   ]
  },
  {
   "cell_type": "code",
   "execution_count": null,
   "id": "6e424a88-99f5-4ccd-b7ae-bf2b3c1b5a35",
   "metadata": {},
   "outputs": [],
   "source": []
  },
  {
   "cell_type": "code",
   "execution_count": 179,
   "id": "2a7eacc6-ada8-4259-8c9e-cb606b425896",
   "metadata": {},
   "outputs": [],
   "source": [
    "import lxml\n",
    "from lxml import etree\n",
    "\n",
    "dtd_string = \"\"\"\n",
    "<!ELEMENT page (title)>\n",
    "<!ELEMENT title (#PCDATA)>\n",
    "\"\"\"\n",
    "\n",
    "xml = \"\"\"\n",
    "<page>\n",
    "  <title>Hello</title>\n",
    " </page>\n",
    " \"\"\"\n",
    "\n",
    "dtd = etree.DTD(StringIO(dtd_string))\n",
    "root = etree.fromstring(xml)\n",
    "is_valid = dtd.validate(root)"
   ]
  },
  {
   "cell_type": "code",
   "execution_count": 182,
   "id": "c11a79df-755f-44c5-b6d2-2299456b5880",
   "metadata": {},
   "outputs": [
    {
     "data": {
      "text/plain": [
       "True"
      ]
     },
     "execution_count": 182,
     "metadata": {},
     "output_type": "execute_result"
    }
   ],
   "source": [
    "is_valid"
   ]
  },
  {
   "cell_type": "code",
   "execution_count": null,
   "id": "8f03e6a7-adef-4abf-a274-427258d270bc",
   "metadata": {},
   "outputs": [],
   "source": []
  },
  {
   "cell_type": "code",
   "execution_count": null,
   "id": "ec5ca955-55de-42ea-aaa3-a7df84fd5255",
   "metadata": {},
   "outputs": [],
   "source": []
  },
  {
   "cell_type": "code",
   "execution_count": 14,
   "id": "10114a0e-55ef-434d-8ccb-1a8d4636d2e9",
   "metadata": {},
   "outputs": [],
   "source": [
    "import lxml\n",
    "from lxml import etree\n",
    "\n",
    "dtd_string = \"\"\"\n",
    "<!ELEMENT note (to,from,heading,body)>\n",
    "<!ELEMENT to (#PCDATA)>\n",
    "<!ELEMENT from (#PCDATA)>\n",
    "<!ELEMENT heading (#PCDATA)>\n",
    "<!ELEMENT body (#PCDATA)>\n",
    "\"\"\"\n",
    "\n",
    "xml = \"\"\"\n",
    "<note>\n",
    "<to>Tove</to>\n",
    "<from>Jani</from>\n",
    "<heading>Reminder</heading>\n",
    "<body>Don't forget me this weekend!</body>\n",
    "</note>\n",
    " \"\"\"\n",
    "\n",
    "dtd = etree.DTD(StringIO(dtd_string))\n",
    "root = etree.fromstring(xml)\n",
    "is_valid = dtd.validate(root)"
   ]
  },
  {
   "cell_type": "code",
   "execution_count": 15,
   "id": "9a93205a-1cee-4f69-8a9e-f98b9604c0a9",
   "metadata": {},
   "outputs": [
    {
     "data": {
      "text/plain": [
       "True"
      ]
     },
     "execution_count": 15,
     "metadata": {},
     "output_type": "execute_result"
    }
   ],
   "source": [
    "is_valid"
   ]
  },
  {
   "cell_type": "code",
   "execution_count": 91,
   "id": "59e07abc-e5c9-4ea4-9a17-ac1adb1c87b8",
   "metadata": {},
   "outputs": [],
   "source": []
  },
  {
   "cell_type": "code",
   "execution_count": null,
   "id": "4bc5709c-e125-4966-aa7c-20d3d0e2f70a",
   "metadata": {},
   "outputs": [],
   "source": [
    "<?xml version=\"1.0\" encoding=\"UTF-8\"?>\n",
    "<xs:schema attributeFormDefault=\"unqualified\" elementFormDefault=\"qualified\" xmlns:xs=\"http://www.w3.org/2001/XMLSchema\">\n",
    "  <xs:element name=\"record\" type=\"recordType\"/>\n",
    "  <xs:complexType name=\"artistType\">\n",
    "    <xs:sequence>\n",
    "      <xs:element type=\"xs:string\" name=\"record\"/>\n",
    "    </xs:sequence>\n",
    "  </xs:complexType>\n",
    "  <xs:complexType name=\"recordType\">\n",
    "    <xs:sequence>\n",
    "      <xs:element type=\"artistType\" name=\"artist\"/>\n",
    "      <xs:element type=\"xs:string\" name=\"year\"/>\n",
    "      <xs:element type=\"xs:string\" name=\"contributor\"/>\n",
    "    </xs:sequence>\n",
    "  </xs:complexType>\n",
    "</xs:schema>"
   ]
  },
  {
   "cell_type": "code",
   "execution_count": 149,
   "id": "1f7abe0d-164d-496a-9a06-c142dd5c138a",
   "metadata": {},
   "outputs": [],
   "source": [
    "dtd = etree.DTD('DTD_fixed.dtd')"
   ]
  },
  {
   "cell_type": "code",
   "execution_count": 160,
   "id": "a7f35c13-375a-4a46-81bf-5a947a369718",
   "metadata": {},
   "outputs": [],
   "source": [
    "root = etree.XML(\"\"\"\n",
    "<record>\n",
    "<artist>text</artist>\n",
    "<year>text</year>\n",
    "<contributor>text</contributor>\n",
    "</record>\n",
    "\"\"\")"
   ]
  },
  {
   "cell_type": "code",
   "execution_count": 159,
   "id": "1b82d5d9-c200-42b9-8bbc-346f88fb7196",
   "metadata": {},
   "outputs": [
    {
     "name": "stdout",
     "output_type": "stream",
     "text": [
      "False\n"
     ]
    }
   ],
   "source": [
    "dtd_string = \"\"\"\n",
    "        <!ELEMENT record (artist|year|contributor)*>\n",
    "        <!ELEMENT artist (record)*>\n",
    "        <!ELEMENT year (#PCDATA)>\n",
    "        <!ELEMENT contributor (#PCDATA)>\n",
    "\"\"\"\n",
    "\n",
    "dtd = etree.DTD(StringIO(dtd_string))\n",
    "print(dtd.validate(root))"
   ]
  },
  {
   "cell_type": "code",
   "execution_count": 162,
   "id": "bdc28359-85ad-49de-ba48-d8418cd54b84",
   "metadata": {},
   "outputs": [
    {
     "name": "stdout",
     "output_type": "stream",
     "text": [
      "True\n"
     ]
    }
   ],
   "source": [
    "dtd_string = \"\"\"\n",
    "<!ELEMENT record (artist|year|contributor)+>\n",
    "<!ELEMENT artist (#PCDATA)>\n",
    "<!ELEMENT year (#PCDATA)>\n",
    "<!ELEMENT contributor (#PCDATA)>\n",
    "\"\"\"\n",
    "\n",
    "dtd = etree.DTD(StringIO(dtd_string))\n",
    "print(dtd.validate(root))"
   ]
  },
  {
   "cell_type": "code",
   "execution_count": null,
   "id": "1fc08b02-5e84-4a04-b808-71b9ac827ce9",
   "metadata": {},
   "outputs": [],
   "source": []
  },
  {
   "cell_type": "code",
   "execution_count": null,
   "id": "502a5839-c51d-4586-b01d-6c876931c987",
   "metadata": {},
   "outputs": [],
   "source": []
  },
  {
   "cell_type": "code",
   "execution_count": null,
   "id": "41be1a92-894c-4368-8474-2fe5331b5c0e",
   "metadata": {},
   "outputs": [],
   "source": []
  },
  {
   "cell_type": "code",
   "execution_count": null,
   "id": "8eb4c4d0-3b46-450e-b031-5ab1f363a990",
   "metadata": {},
   "outputs": [],
   "source": []
  },
  {
   "cell_type": "code",
   "execution_count": 131,
   "id": "6754d6bd-e6f3-42a3-bf79-df20913844a4",
   "metadata": {},
   "outputs": [
    {
     "name": "stdout",
     "output_type": "stream",
     "text": [
      "False\n",
      "False\n",
      "<string>:1:0:ERROR:VALID:DTD_UNKNOWN_ELEM: No declaration for element foo\n"
     ]
    }
   ],
   "source": [
    "dtd = etree.DTD(StringIO(\"\"\"<!DOCTYPE record [\n",
    "  <!ELEMENT record ((artist |year |contributor)+)>\n",
    "  <!ELEMENT artist (record)+>\n",
    "  <!ELEMENT year (#PCDATA)>\n",
    "  <!ELEMENT contributor (#PCDATA)>\n",
    "]>\n",
    "\n",
    "\"\"\"))\n",
    "root = etree.XML(\"<foo/>\")\n",
    "print(dtd.validate(root))\n",
    "# True\n",
    "\n",
    "root = etree.XML(\"<foo>bar</foo>\")\n",
    "print(dtd.validate(root))\n",
    "# False\n",
    "print(dtd.error_log.filter_from_errors())"
   ]
  },
  {
   "cell_type": "code",
   "execution_count": null,
   "id": "4dbd2b3d-ee29-45e4-8e2a-84f187fc7d7c",
   "metadata": {},
   "outputs": [],
   "source": []
  },
  {
   "cell_type": "code",
   "execution_count": 51,
   "id": "c64a874f-6df0-48fb-8fc0-ec695ddfc582",
   "metadata": {},
   "outputs": [],
   "source": [
    "import lxml\n",
    "from lxml import etree\n",
    "\n",
    "dtd_string = \"\"\"\n",
    "<!ELEMENT page (title)>\n",
    "<!ELEMENT title (#PCDATA)>\n",
    "\"\"\"\n",
    "\n",
    "xml = \"\"\"\n",
    "<!DOCTYPE record [         \n",
    "<!ELEMENT record (artist|year|contributor)*>         \n",
    "<!ELEMENT artist (record)*>        \n",
    " <!ELEMENT year (#PCDATA)>         \n",
    "<!ELEMENT contributor (#PCDATA)>        \n",
    " ]> \n",
    "<record>   \n",
    "<artist>\n",
    "<record>text</record>\n",
    "</artist>\n",
    "<year>\n",
    "text\n",
    "</year>   \n",
    "<contributor>\n",
    "text\n",
    "</contributor>\n",
    "</record>\n",
    "\n",
    " \"\"\"\n",
    "\n",
    "# dtd = etree.DTD(StringIO(dtd_string))\n",
    "root = etree.fromstring(xml)\n",
    "# is_valid = dtd.validate(root)"
   ]
  },
  {
   "cell_type": "code",
   "execution_count": 52,
   "id": "f327d1a4-a65d-46b6-a80f-ac6ced4dfc1a",
   "metadata": {},
   "outputs": [
    {
     "data": {
      "text/plain": [
       "<Element record at 0x12371f480>"
      ]
     },
     "execution_count": 52,
     "metadata": {},
     "output_type": "execute_result"
    }
   ],
   "source": [
    "root"
   ]
  },
  {
   "cell_type": "code",
   "execution_count": 61,
   "id": "fb6ff04c-6966-405d-b2af-7638556e8e0c",
   "metadata": {},
   "outputs": [],
   "source": [
    "xsd_path = 'xml_schema.xsd'"
   ]
  },
  {
   "cell_type": "code",
   "execution_count": 62,
   "id": "02d5e9ae-61eb-47a4-971c-cdd3577e24e0",
   "metadata": {},
   "outputs": [],
   "source": [
    "xmlschema_doc = etree.parse(xsd_path)"
   ]
  },
  {
   "cell_type": "code",
   "execution_count": 63,
   "id": "0449c154-6496-4d52-a38d-c2a14b73b08f",
   "metadata": {},
   "outputs": [],
   "source": [
    "xmlschema = etree.XMLSchema(xmlschema_doc)"
   ]
  },
  {
   "cell_type": "code",
   "execution_count": 64,
   "id": "90ea21f5-9277-454e-9dc2-0ab663a5813d",
   "metadata": {},
   "outputs": [
    {
     "data": {
      "text/plain": [
       "True"
      ]
     },
     "execution_count": 64,
     "metadata": {},
     "output_type": "execute_result"
    }
   ],
   "source": [
    "xmlschema.validate(root)"
   ]
  },
  {
   "cell_type": "code",
   "execution_count": 90,
   "id": "6e4b1d5c-0ef9-4928-8ddf-e1c5acae1f66",
   "metadata": {},
   "outputs": [],
   "source": [
    "def validateSchema(XMLfile: str, XMLSchema: str) -> bool:\n",
    "\n",
    "    xml_schema_doc = etree.parse(XMLSchema)\n",
    "    xml_schema = etree.XMLSchema(xml_schema_doc)\n",
    "\n",
    "    xml_doc = etree.parse(XMLfile)\n",
    "    result = xml_schema.validate(xml_doc)\n",
    "\n",
    "    if result:\n",
    "        print(\"File Validated\")\n",
    "    else:\n",
    "        print(\"Your XML file does not conform to its XML Schema\")\n",
    "        \n",
    "def validateDTD(XMLfile: str, DTDSchema: str) -> bool:\n",
    "\n",
    "    dtd_schema = etree.DTD(DTDSchema)\n",
    "\n",
    "    xml_doc = etree.parse(XMLfile)\n",
    "    result = dtd_schema.validate(xml_doc)\n",
    "\n",
    "    if result:\n",
    "        print(\"File Validated\")\n",
    "    else:\n",
    "        print(\"Your XML file does not conform to its DTD Schema\")"
   ]
  },
  {
   "cell_type": "code",
   "execution_count": 81,
   "id": "3fd83e51-9a1d-4d53-8ec8-78fa7a0b34e6",
   "metadata": {},
   "outputs": [
    {
     "name": "stdout",
     "output_type": "stream",
     "text": [
      "File Validated\n"
     ]
    }
   ],
   "source": [
    "validateSchema('XML.xml', 'xml_schema.xsd')"
   ]
  },
  {
   "cell_type": "code",
   "execution_count": 82,
   "id": "62f29187-d8f9-4019-a692-3ee2bad5468f",
   "metadata": {},
   "outputs": [
    {
     "name": "stdout",
     "output_type": "stream",
     "text": [
      "Your XML file does not conform to its DTD Schema\n"
     ]
    }
   ],
   "source": [
    "validateDTD('XML.xml', 'DTD_fixed.dtd')"
   ]
  },
  {
   "cell_type": "code",
   "execution_count": null,
   "id": "a92cabf6-3fe0-4a6f-9bf2-4be378812434",
   "metadata": {},
   "outputs": [],
   "source": [
    "def task_a(xml_path):\n",
    "    validateSchema('XML.xml', 'xml_schema.xsd')\n",
    "    validateDTD('XML.xml', 'DTD_fixed.dtd')"
   ]
  },
  {
   "cell_type": "code",
   "execution_count": null,
   "id": "91d87bc5-cc63-4cf3-b5c7-e07d38081cd2",
   "metadata": {},
   "outputs": [],
   "source": []
  },
  {
   "cell_type": "code",
   "execution_count": 98,
   "id": "13dd65d4-b142-4ad3-ab46-0d39891d4497",
   "metadata": {},
   "outputs": [],
   "source": [
    "def validateXML(XMLfile: str, ValidationFile: str) -> bool:\n",
    "    try:\n",
    "        if ValidationFile[-4:] == '.dtd':\n",
    "            validateDTD(XMLfile, ValidationFile)\n",
    "        elif ValidationFile[-4:] == '.xsd':\n",
    "            validateSchema(XMLfile, ValidationFile)\n",
    "        else:\n",
    "            raise Exception(\"Validation File is not correct\")\n",
    "    except:\n",
    "        raise Exception(\"XML file is not correct\")"
   ]
  },
  {
   "cell_type": "code",
   "execution_count": 99,
   "id": "44aa5acf-cad7-45f6-8a84-a7aaf74c3007",
   "metadata": {},
   "outputs": [
    {
     "name": "stdout",
     "output_type": "stream",
     "text": [
      "File Validated\n"
     ]
    }
   ],
   "source": [
    "validateXML('XML.xml', 'xml_schema.xsd')"
   ]
  },
  {
   "cell_type": "code",
   "execution_count": 100,
   "id": "1dd49d43-1850-49dd-9671-0e05888a43c2",
   "metadata": {},
   "outputs": [
    {
     "name": "stdout",
     "output_type": "stream",
     "text": [
      "Your XML file does not conform to its DTD Schema\n"
     ]
    }
   ],
   "source": [
    "validateXML('XML.xml', 'DTD_fixed.dtd')"
   ]
  },
  {
   "cell_type": "code",
   "execution_count": 146,
   "id": "74f81393-0a9c-4c5a-a4e5-bd1cff91221d",
   "metadata": {},
   "outputs": [],
   "source": [
    "def task_b(xml_path):\n",
    "    validateXML(xml_path, 'xml_schema.xsd')\n",
    "    validateXML(xml_path, 'DTD_fixed.dtd')"
   ]
  },
  {
   "cell_type": "code",
   "execution_count": 147,
   "id": "343c9990-9586-4dda-aa23-b4a1f3f9308e",
   "metadata": {},
   "outputs": [
    {
     "name": "stdout",
     "output_type": "stream",
     "text": [
      "File Validated\n",
      "Your XML file does not conform to its DTD Schema\n"
     ]
    }
   ],
   "source": [
    "task_b('XML.xml')"
   ]
  },
  {
   "cell_type": "code",
   "execution_count": null,
   "id": "85aea621-f7ee-4c8a-9d0b-777883b6279a",
   "metadata": {},
   "outputs": [],
   "source": []
  },
  {
   "cell_type": "code",
   "execution_count": 135,
   "id": "fec27c56-b445-4110-980f-e1500b8d86a9",
   "metadata": {},
   "outputs": [],
   "source": [
    "import xmltodict\n",
    "\n",
    "def task_c(xml_path):\n",
    "    with open(xml_path) as fd:\n",
    "        data = xmltodict.parse(fd.read())\n",
    "        data['record'].pop('contributor', None)\n",
    "\n",
    "        data['record']['contributor'] = {}\n",
    "\n",
    "        data['record']['contributor']['name'] = 'abhinav'\n",
    "        data['record']['contributor']['gender'] = 'male'\n",
    "\n",
    "    with open('result.xml', 'w') as result_file:\n",
    "        result_file.write(xmltodict.unparse(data, pretty=True))"
   ]
  },
  {
   "cell_type": "code",
   "execution_count": null,
   "id": "a7ae593b-e408-4064-8c62-61f5bc1d88fa",
   "metadata": {},
   "outputs": [],
   "source": []
  },
  {
   "cell_type": "code",
   "execution_count": 145,
   "id": "a28f036e-6c34-4e69-a589-8740809c1405",
   "metadata": {},
   "outputs": [],
   "source": [
    "import xmltodict\n",
    "\n",
    "def task_d(result_xml_path):\n",
    "    validateXML(result_xml_path, 'xml_schema.xsd')\n",
    "    validateXML(result_xml_path, 'DTD_fixed.dtd')\n",
    "\n",
    "    with open(result_xml_path) as fd:\n",
    "        data = xmltodict.parse(fd.read())\n",
    "        \n",
    "    data['record'].pop('contributor', None)\n",
    "    data['record']['contributor'] = 'text'\n",
    "    \n",
    "    with open(result_xml_path, 'w') as result_file:\n",
    "        result_file.write(xmltodict.unparse(data, pretty=True))\n",
    "    \n",
    "    validateXML(result_xml_path, 'xml_schema.xsd')\n",
    "    validateXML(result_xml_path, 'DTD_fixed.dtd')"
   ]
  },
  {
   "cell_type": "code",
   "execution_count": null,
   "id": "ae7beb7c-f225-4e01-9d9a-d5758cc1efdd",
   "metadata": {},
   "outputs": [],
   "source": []
  },
  {
   "cell_type": "code",
   "execution_count": null,
   "id": "e1b7c73c-7605-4f24-a072-971cf42468de",
   "metadata": {},
   "outputs": [],
   "source": []
  },
  {
   "cell_type": "code",
   "execution_count": 136,
   "id": "af3488f2-66b9-4cd5-bfab-54dd6ac2a722",
   "metadata": {},
   "outputs": [
    {
     "name": "stdout",
     "output_type": "stream",
     "text": [
      "Your XML file does not conform to its XML Schema\n"
     ]
    }
   ],
   "source": [
    "validateXML('result.xml', 'xml_schema.xsd')"
   ]
  },
  {
   "cell_type": "code",
   "execution_count": 137,
   "id": "5f5aeebc-07aa-4c9a-beec-597fa01cfd54",
   "metadata": {},
   "outputs": [
    {
     "name": "stdout",
     "output_type": "stream",
     "text": [
      "Your XML file does not conform to its DTD Schema\n"
     ]
    }
   ],
   "source": [
    "validateXML('result.xml', 'DTD_fixed.dtd')"
   ]
  },
  {
   "cell_type": "code",
   "execution_count": 138,
   "id": "c2f0d193-436d-41fa-8846-d5011f166554",
   "metadata": {},
   "outputs": [],
   "source": [
    "import xmltodict\n",
    "\n",
    "result_xml_path = 'result.xml'\n",
    "with open(result_xml_path) as fd:\n",
    "    data = xmltodict.parse(fd.read())"
   ]
  },
  {
   "cell_type": "code",
   "execution_count": 139,
   "id": "ad1de724-80dd-4538-94aa-08680e98fb2b",
   "metadata": {},
   "outputs": [
    {
     "data": {
      "text/plain": [
       "{'record': {'artist': {'record': 'text'},\n",
       "  'year': 'text',\n",
       "  'contributor': {'name': 'abhinav', 'gender': 'male'}}}"
      ]
     },
     "execution_count": 139,
     "metadata": {},
     "output_type": "execute_result"
    }
   ],
   "source": [
    "data"
   ]
  },
  {
   "cell_type": "code",
   "execution_count": 140,
   "id": "f7d3058b-06a1-4c8a-8ea0-8244eb5cf8e0",
   "metadata": {},
   "outputs": [
    {
     "data": {
      "text/plain": [
       "{'name': 'abhinav', 'gender': 'male'}"
      ]
     },
     "execution_count": 140,
     "metadata": {},
     "output_type": "execute_result"
    }
   ],
   "source": [
    "data['record'].pop('contributor', None)"
   ]
  },
  {
   "cell_type": "code",
   "execution_count": 141,
   "id": "4c991905-bcc4-4191-8bc5-6ad33f011b55",
   "metadata": {},
   "outputs": [],
   "source": [
    "data['record']['contributor'] = 'text'"
   ]
  },
  {
   "cell_type": "code",
   "execution_count": 142,
   "id": "377b3342-6f44-4540-b817-e9dd2d927fe8",
   "metadata": {},
   "outputs": [
    {
     "data": {
      "text/plain": [
       "{'record': {'artist': {'record': 'text'},\n",
       "  'year': 'text',\n",
       "  'contributor': 'text'}}"
      ]
     },
     "execution_count": 142,
     "metadata": {},
     "output_type": "execute_result"
    }
   ],
   "source": [
    "data"
   ]
  },
  {
   "cell_type": "code",
   "execution_count": 143,
   "id": "1101465d-51ba-4ea3-8a6e-90f2d7775bec",
   "metadata": {},
   "outputs": [],
   "source": [
    "with open('result.xml', 'w') as result_file:\n",
    "    result_file.write(xmltodict.unparse(data, pretty=True))"
   ]
  },
  {
   "cell_type": "code",
   "execution_count": 144,
   "id": "b83991e4-1938-4cdf-9e18-aeb983b7c0ef",
   "metadata": {},
   "outputs": [
    {
     "name": "stdout",
     "output_type": "stream",
     "text": [
      "File Validated\n"
     ]
    }
   ],
   "source": [
    "validateXML('result.xml', 'xml_schema.xsd')"
   ]
  },
  {
   "cell_type": "code",
   "execution_count": null,
   "id": "ae9ba2bc-a183-4b9d-a26c-05d82f12b19d",
   "metadata": {},
   "outputs": [],
   "source": []
  },
  {
   "cell_type": "code",
   "execution_count": null,
   "id": "9ef62ca0-4bbf-4f43-a6e1-b56dcea2b654",
   "metadata": {},
   "outputs": [],
   "source": []
  },
  {
   "cell_type": "code",
   "execution_count": 8,
   "id": "55dda980-79e6-4b6f-bbb4-775795da2f0d",
   "metadata": {},
   "outputs": [],
   "source": [
    "def validate(xml_path: str, xsd_path: str) -> bool:\n",
    "\n",
    "    xmlschema_doc = etree.parse(xsd_path, dtd)\n",
    "    xmlschema = etree.XMLSchema(xmlschema_doc)\n",
    "\n",
    "    xml_doc = etree.parse(xml_path)\n",
    "    result = xmlschema.validate(xml_doc)\n",
    "\n",
    "    return result"
   ]
  },
  {
   "cell_type": "code",
   "execution_count": 9,
   "id": "3be3a1b8-3aad-4244-811d-80a302e4abc8",
   "metadata": {},
   "outputs": [
    {
     "ename": "XMLSyntaxError",
     "evalue": "Start tag expected, '<' not found, line 7, column 1 (DTD.dtd, line 7)",
     "output_type": "error",
     "traceback": [
      "Traceback \u001b[0;36m(most recent call last)\u001b[0m:\n",
      "  File \u001b[1;32m~/miniforge3/envs/uniko/lib/python3.8/site-packages/IPython/core/interactiveshell.py:3397\u001b[0m in \u001b[1;35mrun_code\u001b[0m\n    exec(code_obj, self.user_global_ns, self.user_ns)\n",
      "  Input \u001b[1;32mIn [9]\u001b[0m in \u001b[1;35m<cell line: 1>\u001b[0m\n    validate('XML.xml', 'DTD.dtd')\n",
      "  Input \u001b[1;32mIn [8]\u001b[0m in \u001b[1;35mvalidate\u001b[0m\n    xmlschema_doc = etree.parse(xsd_path)\n",
      "  File \u001b[1;32msrc/lxml/etree.pyx:3536\u001b[0m in \u001b[1;35mlxml.etree.parse\u001b[0m\n",
      "  File \u001b[1;32msrc/lxml/parser.pxi:1876\u001b[0m in \u001b[1;35mlxml.etree._parseDocument\u001b[0m\n",
      "  File \u001b[1;32msrc/lxml/parser.pxi:1902\u001b[0m in \u001b[1;35mlxml.etree._parseDocumentFromURL\u001b[0m\n",
      "  File \u001b[1;32msrc/lxml/parser.pxi:1805\u001b[0m in \u001b[1;35mlxml.etree._parseDocFromFile\u001b[0m\n",
      "  File \u001b[1;32msrc/lxml/parser.pxi:1177\u001b[0m in \u001b[1;35mlxml.etree._BaseParser._parseDocFromFile\u001b[0m\n",
      "  File \u001b[1;32msrc/lxml/parser.pxi:615\u001b[0m in \u001b[1;35mlxml.etree._ParserContext._handleParseResultDoc\u001b[0m\n",
      "  File \u001b[1;32msrc/lxml/parser.pxi:725\u001b[0m in \u001b[1;35mlxml.etree._handleParseResult\u001b[0m\n",
      "\u001b[0;36m  File \u001b[0;32msrc/lxml/parser.pxi:654\u001b[0;36m in \u001b[0;35mlxml.etree._raiseParseError\u001b[0;36m\u001b[0m\n",
      "\u001b[0;36m  File \u001b[0;32mDTD.dtd:7\u001b[0;36m\u001b[0m\n\u001b[0;31mXMLSyntaxError\u001b[0m\u001b[0;31m:\u001b[0m Start tag expected, '<' not found, line 7, column 1\n"
     ]
    }
   ],
   "source": [
    "validate('XML.xml', 'DTD.dtd')"
   ]
  },
  {
   "cell_type": "code",
   "execution_count": 4,
   "id": "1e278476-7561-42c9-8886-6e7a35848558",
   "metadata": {},
   "outputs": [
    {
     "data": {
      "text/plain": [
       "{'record': {'artist': {'record': 'text'},\n",
       "  'year': 'text',\n",
       "  'contributor': 'text'}}"
      ]
     },
     "execution_count": 4,
     "metadata": {},
     "output_type": "execute_result"
    }
   ],
   "source": [
    "doc"
   ]
  },
  {
   "cell_type": "code",
   "execution_count": null,
   "id": "07d51d9a-e23e-47e5-93bf-84f834f59e7e",
   "metadata": {},
   "outputs": [],
   "source": []
  }
 ],
 "metadata": {
  "kernelspec": {
   "display_name": "Python 3 (ipykernel)",
   "language": "python",
   "name": "python3"
  },
  "language_info": {
   "codemirror_mode": {
    "name": "ipython",
    "version": 3
   },
   "file_extension": ".py",
   "mimetype": "text/x-python",
   "name": "python",
   "nbconvert_exporter": "python",
   "pygments_lexer": "ipython3",
   "version": "3.8.12"
  }
 },
 "nbformat": 4,
 "nbformat_minor": 5
}
